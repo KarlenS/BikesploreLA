{
 "cells": [
  {
   "cell_type": "code",
   "execution_count": 1,
   "metadata": {},
   "outputs": [],
   "source": [
    "def bubble_sort(lst,ascending=True):\n",
    "    '''\n",
    "    Gonna bubble sort\n",
    "    O(N^2)\n",
    "    '''\n",
    "    N = len(lst)\n",
    "    \n",
    "    swaps = 0\n",
    "    for i in range(N,1,-1):\n",
    "        \n",
    "        sortd = True        \n",
    "        for count in range(1,i,1):\n",
    "            \n",
    "            if lst[count-1] > lst[count]:\n",
    "                lst[count-1],lst[count] = lst[count],lst[count-1]\n",
    "                sortd = False\n",
    "                swaps += 1\n",
    "                \n",
    "        if sortd:\n",
    "            break\n",
    "                \n",
    "    return lst, N-i,swaps"
   ]
  },
  {
   "cell_type": "code",
   "execution_count": 2,
   "metadata": {},
   "outputs": [
    {
     "data": {
      "text/plain": [
       "1"
      ]
     },
     "execution_count": 2,
     "metadata": {},
     "output_type": "execute_result"
    }
   ],
   "source": [
    "sorted_list,loops,swaps = bubble_sort([2,1,4,1,3,4,2,3])\n",
    "3//2"
   ]
  },
  {
   "cell_type": "code",
   "execution_count": 15,
   "metadata": {},
   "outputs": [],
   "source": [
    "def binary_search(lst,target):\n",
    "    '''\n",
    "    assume sorted lst\n",
    "    '''\n",
    "    \n",
    "    mid = len(lst)//2\n",
    "    print(lst,mid)\n",
    "    if target == lst[mid]:\n",
    "        return True\n",
    "    elif mid < 1:\n",
    "        return False\n",
    "    elif target < lst[mid]:\n",
    "        return binary_search(lst[:mid+1],target)\n",
    "    else:\n",
    "        return binary_search(lst[mid:],target)"
   ]
  },
  {
   "cell_type": "code",
   "execution_count": 16,
   "metadata": {},
   "outputs": [
    {
     "name": "stdout",
     "output_type": "stream",
     "text": [
      "[1, 2, 3, 4] 2\n",
      "[3, 4] 1\n",
      "[4] 0\n"
     ]
    }
   ],
   "source": [
    "sorted_list,loops,swaps = bubble_sort([2,1,4,3])\n",
    "x = binary_search(sorted_list,5)"
   ]
  },
  {
   "cell_type": "code",
   "execution_count": 17,
   "metadata": {},
   "outputs": [
    {
     "name": "stdout",
     "output_type": "stream",
     "text": [
      "False\n"
     ]
    }
   ],
   "source": [
    "print(x)"
   ]
  },
  {
   "cell_type": "code",
   "execution_count": null,
   "metadata": {},
   "outputs": [],
   "source": []
  }
 ],
 "metadata": {
  "kernelspec": {
   "display_name": "Python 3",
   "language": "python",
   "name": "python3"
  },
  "language_info": {
   "codemirror_mode": {
    "name": "ipython",
    "version": 3
   },
   "file_extension": ".py",
   "mimetype": "text/x-python",
   "name": "python",
   "nbconvert_exporter": "python",
   "pygments_lexer": "ipython3",
   "version": "3.6.8"
  }
 },
 "nbformat": 4,
 "nbformat_minor": 2
}
