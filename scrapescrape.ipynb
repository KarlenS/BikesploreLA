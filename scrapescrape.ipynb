{
 "cells": [
  {
   "cell_type": "code",
   "execution_count": 7,
   "metadata": {},
   "outputs": [],
   "source": [
    "import os.path\n",
    "from urllib import request\n",
    "from bs4 import BeautifulSoup\n",
    "import geopandas as gp\n",
    "import numpy as np\n",
    "import pandas as pd"
   ]
  },
  {
   "cell_type": "code",
   "execution_count": 3,
   "metadata": {},
   "outputs": [],
   "source": [
    "locs_url = \"https://en.wikipedia.org/wiki/List_of_tourist_attractions_in_Los_Angeles\"\n",
    "\n",
    "wikibase = \"https://en.wikipedia.org\"\n",
    "\n",
    "res = request.urlopen(locs_url).read()\n",
    "soup = BeautifulSoup(res,'html.parser')\n",
    "\n",
    "loc_lists = soup.find_all('ul')[1:26]\n",
    "\n",
    "masterlist = []\n",
    "\n",
    "for loc in loc_lists:\n",
    "    masterlist += [li.a['href'] for li in loc.find_all('li')]\n",
    "\n",
    "    \n",
    "nrows = len(masterlist)\n",
    "columns=['title','lon','lat','thumb_im_url','full_im_url']\n",
    "wiki_df = pd.DataFrame(columns=columns,index=np.arange(nrows))"
   ]
  },
  {
   "cell_type": "code",
   "execution_count": 4,
   "metadata": {},
   "outputs": [],
   "source": [
    "failcount = 0\n",
    "for ind,page in enumerate(masterlist):\n",
    "\n",
    "    tmpurl = wikibase + page\n",
    "    tmpres = request.urlopen(tmpurl).read()\n",
    "    tmpsoup = BeautifulSoup(tmpres,'html.parser')\n",
    "    #print(page)\n",
    "    if tmpsoup:\n",
    "        try:\n",
    "            lat = tmpsoup.find(class_=['latitude']).text\n",
    "            lon = tmpsoup.find(class_=['longitude']).text\n",
    "        except AttributeError:\n",
    "            #print('failed at coords... skipping')\n",
    "            failcount += 1\n",
    "            continue\n",
    "            \n",
    "        cardobj = tmpsoup.find(class_=['infobox'])\n",
    "        try:\n",
    "            imobj = cardobj.find('a',class_='image')\n",
    "            imlink = imobj.img['src']\n",
    "            fullimglink = os.path.dirname(imlink)\n",
    "        except AttributeError:\n",
    "            #print('FUCKING CARDBOX!!!!') #TODO: can look for another element with pic later...\n",
    "            imlink = None\n",
    "            fullimglink = None\n",
    "            \n",
    "        name = page.split('/')[-1]\n",
    "        wiki_df.iloc[ind] = [name,lon,lat,imlink,fullimglink]\n",
    "    else:\n",
    "        print('tmpsoup be empty')\n",
    "        failcount +=1"
   ]
  },
  {
   "cell_type": "code",
   "execution_count": 6,
   "metadata": {},
   "outputs": [
    {
     "data": {
      "text/plain": [
       "'/Users/karlen/Work/Insight/BikesploreLA'"
      ]
     },
     "execution_count": 6,
     "metadata": {},
     "output_type": "execute_result"
    }
   ],
   "source": [
    "pwd"
   ]
  },
  {
   "cell_type": "code",
   "execution_count": 5,
   "metadata": {},
   "outputs": [],
   "source": [
    "wiki_df.to_csv('wiki_sights_updated.csv')"
   ]
  },
  {
   "cell_type": "markdown",
   "metadata": {},
   "source": [
    "TRAFFIC VOLUME INFO OH SNAPPPPPPY!"
   ]
  },
  {
   "cell_type": "code",
   "execution_count": 2,
   "metadata": {},
   "outputs": [
    {
     "name": "stderr",
     "output_type": "stream",
     "text": [
      "/Users/karlen/anaconda3/envs/insight/lib/python3.7/site-packages/pysal/model/spvcm/abstracts.py:10: UserWarning: The `dill` module is required to use the sqlite backend fully.\n",
      "  from .sqlite import head_to_sql, start_sql\n"
     ]
    }
   ],
   "source": [
    "import pysal as ps\n",
    "import pandas as pd "
   ]
  },
  {
   "cell_type": "code",
   "execution_count": 7,
   "metadata": {},
   "outputs": [],
   "source": [
    "for year in range(2015,2017):\n",
    "\n",
    "    dbf = ps.lib.io.open('../data/raw/traffic_volume/AADT{}.dbf'.format(year))\n",
    "    d = {col: dbf.by_col(col) for col in dbf.header}\n",
    "    traffic_vol_df = pd.DataFrame(d)\n",
    "    traffic_vol_df.to_csv('../data/raw/traffic_volume/AADT{}.csv'.format(year))"
   ]
  },
  {
   "cell_type": "code",
   "execution_count": 159,
   "metadata": {},
   "outputs": [],
   "source": [
    "traffic_vol_df.to_csv('../data/traffic_volume/AADT2017.csv')"
   ]
  },
  {
   "cell_type": "code",
   "execution_count": null,
   "metadata": {},
   "outputs": [],
   "source": []
  }
 ],
 "metadata": {
  "kernelspec": {
   "display_name": "Python 3",
   "language": "python",
   "name": "python3"
  },
  "language_info": {
   "codemirror_mode": {
    "name": "ipython",
    "version": 3
   },
   "file_extension": ".py",
   "mimetype": "text/x-python",
   "name": "python",
   "nbconvert_exporter": "python",
   "pygments_lexer": "ipython3",
   "version": "3.6.8"
  }
 },
 "nbformat": 4,
 "nbformat_minor": 2
}
