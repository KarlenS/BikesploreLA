{
 "cells": [
  {
   "cell_type": "code",
   "execution_count": 18,
   "metadata": {},
   "outputs": [],
   "source": [
    "import osmnx as ox\n",
    "import geopandas as gp\n",
    "import pandas as pd\n",
    "import matplotlib.pyplot as plt"
   ]
  },
  {
   "cell_type": "code",
   "execution_count": 9,
   "metadata": {},
   "outputs": [],
   "source": [
    "gdrive = ox.graph_from_place('Los Angeles, CA, USA',network_type='drive')"
   ]
  },
  {
   "cell_type": "code",
   "execution_count": 10,
   "metadata": {},
   "outputs": [],
   "source": [
    "gbike = ox.graph_from_place('Los Angeles, CA, USA',network_type='bike')"
   ]
  },
  {
   "cell_type": "code",
   "execution_count": 23,
   "metadata": {},
   "outputs": [],
   "source": [
    "import contextily as ctx\n",
    "\n",
    "def add_basemap(ax, zoom, url='http://tile.stamen.com/terrain/tileZ/tileX/tileY.png'):\n",
    "    xmin, xmax, ymin, ymax = ax.axis()\n",
    "    basemap, extent = ctx.bounds2img(xmin, ymin, xmax, ymax, zoom=zoom, url=url)\n",
    "    ax.imshow(basemap, extent=extent, interpolation='bilinear')\n",
    "    # restore original x/y limits\n",
    "    ax.axis((xmin, xmax, ymin, ymax))"
   ]
  },
  {
   "cell_type": "code",
   "execution_count": 24,
   "metadata": {},
   "outputs": [
    {
     "data": {
      "text/plain": [
       "['naturalearth_cities', 'naturalearth_lowres', 'nybb']"
      ]
     },
     "execution_count": 24,
     "metadata": {},
     "output_type": "execute_result"
    }
   ],
   "source": [
    "gp.datasets.available"
   ]
  },
  {
   "cell_type": "code",
   "execution_count": 25,
   "metadata": {},
   "outputs": [
    {
     "data": {
      "text/plain": [
       "{'n': 85729,\n",
       " 'm': 237335,\n",
       " 'k_avg': 5.536866171307259,\n",
       " 'intersection_count': 71519,\n",
       " 'streets_per_node_avg': 2.8953796264974514,\n",
       " 'streets_per_node_counts': {0: 0,\n",
       "  1: 14210,\n",
       "  2: 462,\n",
       "  3: 51589,\n",
       "  4: 19061,\n",
       "  5: 376,\n",
       "  6: 25,\n",
       "  7: 5,\n",
       "  8: 1},\n",
       " 'streets_per_node_proportion': {0: 0.0,\n",
       "  1: 0.1657548787458153,\n",
       "  2: 0.005389074875479709,\n",
       "  3: 0.6017683630976682,\n",
       "  4: 0.22234016493835224,\n",
       "  5: 0.004385913751472664,\n",
       "  6: 0.0002916166058160016,\n",
       "  7: 5.832332116320032e-05,\n",
       "  8: 1.1664664232640064e-05},\n",
       " 'edge_length_total': 27336129.16000018,\n",
       " 'edge_length_avg': 115.17951064950462,\n",
       " 'street_length_total': 14156971.96300005,\n",
       " 'street_length_avg': 114.54787574237439,\n",
       " 'street_segments_count': 123590,\n",
       " 'node_density_km': None,\n",
       " 'intersection_density_km': None,\n",
       " 'edge_density_km': None,\n",
       " 'street_density_km': None,\n",
       " 'circuity_avg': 1.0662470528755312,\n",
       " 'self_loop_proportion': 0.002692396823056018,\n",
       " 'clean_intersection_count': None,\n",
       " 'clean_intersection_density_km': None}"
      ]
     },
     "execution_count": 25,
     "metadata": {},
     "output_type": "execute_result"
    }
   ],
   "source": []
  },
  {
   "cell_type": "code",
   "execution_count": null,
   "metadata": {},
   "outputs": [],
   "source": []
  }
 ],
 "metadata": {
  "kernelspec": {
   "display_name": "Python 3",
   "language": "python",
   "name": "python3"
  },
  "language_info": {
   "codemirror_mode": {
    "name": "ipython",
    "version": 3
   },
   "file_extension": ".py",
   "mimetype": "text/x-python",
   "name": "python",
   "nbconvert_exporter": "python",
   "pygments_lexer": "ipython3",
   "version": "3.7.3"
  }
 },
 "nbformat": 4,
 "nbformat_minor": 2
}
